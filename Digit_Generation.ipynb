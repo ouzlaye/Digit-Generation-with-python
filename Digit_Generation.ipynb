{
  "nbformat": 4,
  "nbformat_minor": 0,
  "metadata": {
    "kernelspec": {
      "display_name": "Python 3",
      "language": "python",
      "name": "python3"
    },
    "language_info": {
      "codemirror_mode": {
        "name": "ipython",
        "version": 3
      },
      "file_extension": ".py",
      "mimetype": "text/x-python",
      "name": "python",
      "nbconvert_exporter": "python",
      "pygments_lexer": "ipython3",
      "version": "3.7.4"
    },
    "latex_envs": {
      "LaTeX_envs_menu_present": true,
      "autoclose": false,
      "autocomplete": true,
      "bibliofile": "biblio.bib",
      "cite_by": "apalike",
      "current_citInitial": 1,
      "eqLabelWithNumbers": true,
      "eqNumInitial": 1,
      "hotkeys": {
        "equation": "Ctrl-E",
        "itemize": "Ctrl-I"
      },
      "labels_anchors": false,
      "latex_user_defs": false,
      "report_style_numbering": false,
      "user_envs_cfg": false
    },
    "toc": {
      "base_numbering": 1,
      "nav_menu": {},
      "number_sections": true,
      "sideBar": true,
      "skip_h1_title": false,
      "title_cell": "Table of Contents",
      "title_sidebar": "Contents",
      "toc_cell": false,
      "toc_position": {},
      "toc_section_display": true,
      "toc_window_display": false
    },
    "varInspector": {
      "cols": {
        "lenName": 16,
        "lenType": 16,
        "lenVar": 40
      },
      "kernels_config": {
        "python": {
          "delete_cmd_postfix": "",
          "delete_cmd_prefix": "del ",
          "library": "var_list.py",
          "varRefreshCmd": "print(var_dic_list())"
        },
        "r": {
          "delete_cmd_postfix": ") ",
          "delete_cmd_prefix": "rm(",
          "library": "var_list.r",
          "varRefreshCmd": "cat(var_dic_list()) "
        }
      },
      "types_to_exclude": [
        "module",
        "function",
        "builtin_function_or_method",
        "instance",
        "_Feature"
      ],
      "window_display": false
    },
    "colab": {
      "name": "Digit-Generation.ipynb",
      "provenance": [],
      "toc_visible": true,
      "include_colab_link": true
    },
    "accelerator": "GPU"
  },
  "cells": [
    {
      "cell_type": "markdown",
      "metadata": {
        "id": "view-in-github",
        "colab_type": "text"
      },
      "source": [
        "<a href=\"https://colab.research.google.com/github/ouzlaye/Xadrabi-TV/blob/master/Digit_Generation.ipynb\" target=\"_parent\"><img src=\"https://colab.research.google.com/assets/colab-badge.svg\" alt=\"Open In Colab\"/></a>"
      ]
    },
    {
      "cell_type": "markdown",
      "metadata": {
        "id": "mD8TCT3ryLNA",
        "colab_type": "text"
      },
      "source": [
        "# Digit Generation 🔢\n",
        "\n",
        "![](https://images.unsplash.com/photo-1502570149819-b2260483d302?ixlib=rb-1.2.1&ixid=eyJhcHBfaWQiOjEyMDd9&auto=format&fit=crop&w=1050&q=80)\n",
        "\n",
        "Photo by [Nick Hillier](https://unsplash.com/photos/yD5rv8_WzxA)"
      ]
    },
    {
      "cell_type": "markdown",
      "metadata": {
        "id": "wVEnvtBcyLND",
        "colab_type": "text"
      },
      "source": [
        "---"
      ]
    },
    {
      "cell_type": "markdown",
      "metadata": {
        "id": "PIssJsBgyLNF",
        "colab_type": "text"
      },
      "source": [
        "# A GAN to generate digits"
      ]
    },
    {
      "cell_type": "markdown",
      "metadata": {
        "id": "JA6D__ZPyLNG",
        "colab_type": "text"
      },
      "source": [
        "In this exercise, you will be asked to :\n",
        "- complete the code to create your first GAN\n",
        "- train a GAN to generate digits based on the MNIST dataset\n",
        "\n",
        "You should be able to generate new digits by the end of the exercise. This exercise can be run locally, but you can also go for a notebook in Google Colab for example."
      ]
    },
    {
      "cell_type": "code",
      "metadata": {
        "ExecuteTime": {
          "end_time": "2019-05-30T12:24:28.715849Z",
          "start_time": "2019-05-30T12:24:28.706796Z"
        },
        "id": "En5xOd8LyLNH",
        "colab_type": "code",
        "outputId": "98d3729d-f485-4748-d34a-ef803c5a8db6",
        "colab": {
          "base_uri": "https://localhost:8080/",
          "height": 34
        }
      },
      "source": [
        "import matplotlib.pyplot as plt\n",
        "import numpy as np\n",
        "import pandas as pd\n",
        "import matplotlib.image as mpimg\n",
        "from keras.datasets import mnist\n"
      ],
      "execution_count": 0,
      "outputs": [
        {
          "output_type": "stream",
          "text": [
            "Using TensorFlow backend.\n"
          ],
          "name": "stderr"
        }
      ]
    },
    {
      "cell_type": "markdown",
      "metadata": {
        "ExecuteTime": {
          "end_time": "2019-05-29T16:33:17.276747Z",
          "start_time": "2019-05-29T16:33:17.272840Z"
        },
        "id": "eZjJswusyLNY",
        "colab_type": "text"
      },
      "source": [
        "## I. Input data"
      ]
    },
    {
      "cell_type": "markdown",
      "metadata": {
        "id": "pZXmW4cdyLNZ",
        "colab_type": "text"
      },
      "source": [
        "In this GAN example, we're going to use the MNIST dataset. MNIST is a set of handwritten digits. We'll try to generate new digit samples using GANs.\n",
        "\n",
        "We kindly remind you how to load the data 🙂"
      ]
    },
    {
      "cell_type": "code",
      "metadata": {
        "ExecuteTime": {
          "end_time": "2019-05-30T12:24:30.426759Z",
          "start_time": "2019-05-30T12:24:29.727444Z"
        },
        "id": "bH5NioMvyLNa",
        "colab_type": "code",
        "outputId": "529c1b3a-0c9f-4298-89c5-7aadb04477b3",
        "colab": {
          "base_uri": "https://localhost:8080/",
          "height": 51
        }
      },
      "source": [
        "(X_train, _), (_, _) = mnist.load_data()\n",
        "\n",
        "# Some useful variables\n",
        "img_rows = 28\n",
        "img_cols = 28\n",
        "channels = 1\n",
        "img_shape = (img_rows, img_cols, channels)"
      ],
      "execution_count": 0,
      "outputs": [
        {
          "output_type": "stream",
          "text": [
            "Downloading data from https://s3.amazonaws.com/img-datasets/mnist.npz\n",
            "11493376/11490434 [==============================] - 0s 0us/step\n"
          ],
          "name": "stdout"
        }
      ]
    },
    {
      "cell_type": "code",
      "metadata": {
        "id": "IMR1KvzJ2V2s",
        "colab_type": "code",
        "outputId": "d6e6da11-9303-4f3c-990f-9e415497d940",
        "colab": {
          "base_uri": "https://localhost:8080/",
          "height": 34
        }
      },
      "source": [
        "X_train.shape"
      ],
      "execution_count": 0,
      "outputs": [
        {
          "output_type": "execute_result",
          "data": {
            "text/plain": [
              "(60000, 28, 28)"
            ]
          },
          "metadata": {
            "tags": []
          },
          "execution_count": 3
        }
      ]
    },
    {
      "cell_type": "markdown",
      "metadata": {
        "id": "0h5UWluAyLNg",
        "colab_type": "text"
      },
      "source": [
        "**Q1**. Rescale the data from -1 to 1 and format the X_train dataset in order to have the proper dimensions\n",
        "\n",
        "> 🔦 **Hint**: Remember, the MNIST dataset is grayscale so contains only one channel but Keras expects input images to have 3 dimensions even if there is only one channel."
      ]
    },
    {
      "cell_type": "code",
      "metadata": {
        "ExecuteTime": {
          "end_time": "2019-12-03T09:23:37.863536Z",
          "start_time": "2019-12-03T09:23:37.860180Z"
        },
        "id": "f12uxgyByLNh",
        "colab_type": "code",
        "colab": {}
      },
      "source": [
        "# TODO: Rescale -1 to 1 and format the X_train dataset\n",
        "X_train = (X_train.astype(np.float32) - 127.5) / 127.5\n",
        "X_train = np.expand_dims(X_train, axis=3)\n"
      ],
      "execution_count": 0,
      "outputs": []
    },
    {
      "cell_type": "code",
      "metadata": {
        "id": "NzFXHYjC5Vua",
        "colab_type": "code",
        "outputId": "4660885c-1d1a-4626-8991-ce83b3441a78",
        "colab": {
          "base_uri": "https://localhost:8080/",
          "height": 34
        }
      },
      "source": [
        "print(X_train.mean(), X_train.max())"
      ],
      "execution_count": 0,
      "outputs": [
        {
          "output_type": "stream",
          "text": [
            "-0.7386798 1.0\n"
          ],
          "name": "stdout"
        }
      ]
    },
    {
      "cell_type": "markdown",
      "metadata": {
        "id": "YcUnSNeOyLNl",
        "colab_type": "text"
      },
      "source": [
        "**Q2**.Visualize one of the image"
      ]
    },
    {
      "cell_type": "code",
      "metadata": {
        "ExecuteTime": {
          "end_time": "2019-12-03T09:23:51.734889Z",
          "start_time": "2019-12-03T09:23:51.730345Z"
        },
        "scrolled": true,
        "id": "8la768TQyLNm",
        "colab_type": "code",
        "outputId": "69b63927-d220-4d11-faa9-4613346d99f4",
        "colab": {
          "base_uri": "https://localhost:8080/",
          "height": 494
        }
      },
      "source": [
        "# TODO : Visualize one image\n",
        "plt.figure(figsize=(8,10))\n",
        "img = X_train[1].reshape(28,28)\n",
        "plt.imshow(img)\n",
        "plt.show()"
      ],
      "execution_count": 0,
      "outputs": [
        {
          "output_type": "display_data",
          "data": {
            "image/png": "[encoded data removed]",
            "text/plain": [
              "<Figure size 576x720 with 1 Axes>"
            ]
          },
          "metadata": {
            "tags": [],
            "needs_background": "light"
          }
        }
      ]
    },
    {
      "cell_type": "markdown",
      "metadata": {
        "ExecuteTime": {
          "end_time": "2019-05-29T16:33:17.276747Z",
          "start_time": "2019-05-29T16:33:17.272840Z"
        },
        "id": "rdsnPSyoyLNq",
        "colab_type": "text"
      },
      "source": [
        "## II. Build the GAN"
      ]
    },
    {
      "cell_type": "code",
      "metadata": {
        "ExecuteTime": {
          "end_time": "2019-05-30T12:24:31.385068Z",
          "start_time": "2019-05-30T12:24:31.374005Z"
        },
        "id": "9UaMfUn5yLNs",
        "colab_type": "code",
        "colab": {}
      },
      "source": [
        "from keras.layers import Input, Dense, Reshape, Flatten, Dropout\n",
        "from keras.layers import BatchNormalization, Activation, ZeroPadding2D\n",
        "from keras.layers.advanced_activations import LeakyReLU\n",
        "from keras.layers.convolutional import UpSampling2D, Conv2D\n",
        "from keras.models import Sequential, Model\n",
        "from keras.optimizers import Adam"
      ],
      "execution_count": 0,
      "outputs": []
    },
    {
      "cell_type": "markdown",
      "metadata": {
        "id": "1IbRwnoiyLN2",
        "colab_type": "text"
      },
      "source": [
        "### a. The Generator"
      ]
    },
    {
      "cell_type": "markdown",
      "metadata": {
        "id": "7kqKJjPUyLN3",
        "colab_type": "text"
      },
      "source": [
        "**Q1**. The first step is to build a generator. For the generator, we start with an **input noise shape of size 100**. We then create a sequential model to increase the size of the data up to 1024, before reshaping the data back to the input image shape.\n",
        "\n",
        "Each layer will be made of:\n",
        "- A **Dense layer** (sizes 256, 512, 1024 in order)\n",
        "- A **LeakyRelu activation** with alpha = 0.2\n",
        "- A **Batch normalization** (momentum = 0.8)"
      ]
    },
    {
      "cell_type": "code",
      "metadata": {
        "ExecuteTime": {
          "end_time": "2019-05-30T12:24:32.487781Z",
          "start_time": "2019-05-30T12:24:32.468680Z"
        },
        "id": "sNpmcG7KyLN4",
        "colab_type": "code",
        "colab": {}
      },
      "source": [
        "def build_generator():\n",
        "    # Input Data\n",
        "    noise_shape = (100,)\n",
        "    noise = Input(shape=noise_shape)\n",
        "    \n",
        "    # Create the sequential model\n",
        "    model = Sequential()\n",
        "\n",
        "    # Build the first layer\n",
        "    model.add(Dense(256, input_shape=noise_shape))\n",
        "    model.add(LeakyReLU(alpha=0.2))\n",
        "    model.add(BatchNormalization(momentum=0.8))\n",
        "    \n",
        "    # Second layer\n",
        "    model.add(Dense(units=512))\n",
        "    model.add(LeakyReLU(alpha=0.2))\n",
        "    model.add(BatchNormalization(momentum=0.8))\n",
        "    \n",
        "    # Third layer\n",
        "    model.add(Dense(units=1024 ))\n",
        "    model.add(LeakyReLU(alpha=0.2))\n",
        "    model.add(BatchNormalization(momentum=0.8))\n",
        "\n",
        "    \n",
        "    # Flatten and reshape\n",
        "    model.add(Dense(np.prod(img_shape), activation='tanh'))\n",
        "    model.add(Reshape(img_shape))\n",
        "\n",
        "\n",
        "    # Get model summary\n",
        "    img= model(noise)\n",
        "    model.summary()\n",
        "\n",
        "    \n",
        "    return Model(noise, img)"
      ],
      "execution_count": 0,
      "outputs": []
    },
    {
      "cell_type": "markdown",
      "metadata": {
        "id": "ABG3XTFjyLN8",
        "colab_type": "text"
      },
      "source": [
        "**Q2**. Compile the Generator and add an Adam optimizer as advised."
      ]
    },
    {
      "cell_type": "code",
      "metadata": {
        "ExecuteTime": {
          "end_time": "2019-12-03T09:25:18.312334Z",
          "start_time": "2019-12-03T09:25:18.307706Z"
        },
        "id": "YVcgWQyOyLN9",
        "colab_type": "code",
        "outputId": "c88cc4cc-3803-4e18-dee9-238d260f54bf",
        "colab": {
          "base_uri": "https://localhost:8080/",
          "height": 527
        }
      },
      "source": [
        "# TODO : Compile the generator\n",
        "my_generator = build_generator() \n"
      ],
      "execution_count": 0,
      "outputs": [
        {
          "output_type": "stream",
          "text": [
            "Model: \"sequential_1\"\n",
            "_________________________________________________________________\n",
            "Layer (type)                 Output Shape              Param #   \n",
            "=================================================================\n",
            "dense_1 (Dense)              (None, 256)               25856     \n",
            "_________________________________________________________________\n",
            "leaky_re_lu_1 (LeakyReLU)    (None, 256)               0         \n",
            "_________________________________________________________________\n",
            "batch_normalization_1 (Batch (None, 256)               1024      \n",
            "_________________________________________________________________\n",
            "dense_2 (Dense)              (None, 512)               131584    \n",
            "_________________________________________________________________\n",
            "leaky_re_lu_2 (LeakyReLU)    (None, 512)               0         \n",
            "_________________________________________________________________\n",
            "batch_normalization_2 (Batch (None, 512)               2048      \n",
            "_________________________________________________________________\n",
            "dense_3 (Dense)              (None, 1024)              525312    \n",
            "_________________________________________________________________\n",
            "leaky_re_lu_3 (LeakyReLU)    (None, 1024)              0         \n",
            "_________________________________________________________________\n",
            "batch_normalization_3 (Batch (None, 1024)              4096      \n",
            "_________________________________________________________________\n",
            "dense_4 (Dense)              (None, 784)               803600    \n",
            "_________________________________________________________________\n",
            "reshape_1 (Reshape)          (None, 28, 28, 1)         0         \n",
            "=================================================================\n",
            "Total params: 1,493,520\n",
            "Trainable params: 1,489,936\n",
            "Non-trainable params: 3,584\n",
            "_________________________________________________________________\n"
          ],
          "name": "stdout"
        }
      ]
    },
    {
      "cell_type": "code",
      "metadata": {
        "id": "hEnoTf4UEv3n",
        "colab_type": "code",
        "colab": {}
      },
      "source": [
        "my_generator.compile(optimizer='adam', metrics=['accuracy'], loss='binary_crossentropy')"
      ],
      "execution_count": 0,
      "outputs": []
    },
    {
      "cell_type": "markdown",
      "metadata": {
        "id": "T220kccXyLOE",
        "colab_type": "text"
      },
      "source": [
        "### b. The Discriminator"
      ]
    },
    {
      "cell_type": "markdown",
      "metadata": {
        "id": "IwnEKppUyLOF",
        "colab_type": "text"
      },
      "source": [
        "**Q3**. Build the discriminator. It takes an input that has the shape of the image. The steps are the following :\n",
        "- Declare the **Sequential** model\n",
        "- **Flatten** the images (with input shape = image shape)\n",
        "- Add a **Dense layer** of 512 and a **Leaky Relu** (0.2)\n",
        "- Add a **Dense layer** of 256 and a **Leaky Relu** (0.2)\n",
        "- Add a **Dense layer** of size 1. What activation function would you use ?"
      ]
    },
    {
      "cell_type": "code",
      "metadata": {
        "ExecuteTime": {
          "end_time": "2019-05-30T12:24:34.899788Z",
          "start_time": "2019-05-30T12:24:34.885304Z"
        },
        "id": "RRyLxtzByLOG",
        "colab_type": "code",
        "colab": {}
      },
      "source": [
        "def build_discriminator():\n",
        "    \n",
        "    img = Input(shape=img_shape)\n",
        "\n",
        "    # Create the sequential model\n",
        "    model = Sequential()\n",
        "    \n",
        "    # Flatten the images taken as inputs\n",
        "    model.add(Flatten(input_shape=img_shape))\n",
        "    \n",
        "    # First layer\n",
        "    model.add(Dense(512))\n",
        "    model.add(LeakyReLU(alpha=0.2))\n",
        "\n",
        "    \n",
        "    # Second layer\n",
        "    model.add(Dense(256 ))\n",
        "    model.add(LeakyReLU(alpha=0.2))\n",
        "\n",
        "    \n",
        "    # Last layer, return either 0 or 1\n",
        "    model.add(Dense(1, activation= 'tanh'))\n",
        "\n",
        "    \n",
        "    # Get model summary\n",
        "    validity =model(img)\n",
        "    model.summary()\n",
        "\n",
        "    \n",
        "    return Model(img, validity)"
      ],
      "execution_count": 0,
      "outputs": []
    },
    {
      "cell_type": "markdown",
      "metadata": {
        "id": "fGGi3HUfyLOM",
        "colab_type": "text"
      },
      "source": [
        "**Q4**. Now compile the discriminator. (Observe the metric we are using)"
      ]
    },
    {
      "cell_type": "code",
      "metadata": {
        "ExecuteTime": {
          "end_time": "2019-12-03T09:25:49.184553Z",
          "start_time": "2019-12-03T09:25:49.180943Z"
        },
        "scrolled": true,
        "id": "QUB0kIaKyLON",
        "colab_type": "code",
        "outputId": "17913d11-0cf9-4e95-ab8a-b5586dab5f82",
        "colab": {
          "base_uri": "https://localhost:8080/",
          "height": 357
        }
      },
      "source": [
        "# TODO: Compile the discriminator\n",
        "my_disc= build_discriminator()"
      ],
      "execution_count": 0,
      "outputs": [
        {
          "output_type": "stream",
          "text": [
            "Model: \"sequential_2\"\n",
            "_________________________________________________________________\n",
            "Layer (type)                 Output Shape              Param #   \n",
            "=================================================================\n",
            "flatten_1 (Flatten)          (None, 784)               0         \n",
            "_________________________________________________________________\n",
            "dense_5 (Dense)              (None, 512)               401920    \n",
            "_________________________________________________________________\n",
            "leaky_re_lu_4 (LeakyReLU)    (None, 512)               0         \n",
            "_________________________________________________________________\n",
            "dense_6 (Dense)              (None, 256)               131328    \n",
            "_________________________________________________________________\n",
            "leaky_re_lu_5 (LeakyReLU)    (None, 256)               0         \n",
            "_________________________________________________________________\n",
            "dense_7 (Dense)              (None, 1)                 257       \n",
            "=================================================================\n",
            "Total params: 533,505\n",
            "Trainable params: 533,505\n",
            "Non-trainable params: 0\n",
            "_________________________________________________________________\n"
          ],
          "name": "stdout"
        }
      ]
    },
    {
      "cell_type": "code",
      "metadata": {
        "id": "_A1V5ZI5F__g",
        "colab_type": "code",
        "colab": {}
      },
      "source": [
        "my_disc.compile(optimizer='adam', loss='binary_crossentropy', metrics=['accuracy'])"
      ],
      "execution_count": 0,
      "outputs": []
    },
    {
      "cell_type": "markdown",
      "metadata": {
        "id": "Lc8CD5veyLOT",
        "colab_type": "text"
      },
      "source": [
        "### c. Build the GAN model"
      ]
    },
    {
      "cell_type": "markdown",
      "metadata": {
        "id": "jKm3ruMIyLOU",
        "colab_type": "text"
      },
      "source": [
        "**Q5**. Now it is time to build **the GAN model**. This is done in 4 major steps :\n",
        "- Declare the input\n",
        "- Set the image as the result of the generator of the input\n",
        "- Set the output as the result of the discriminator of the generated image\n",
        "- Define and compile the model"
      ]
    },
    {
      "cell_type": "code",
      "metadata": {
        "ExecuteTime": {
          "end_time": "2019-12-03T09:26:11.801129Z",
          "start_time": "2019-12-03T09:26:11.795990Z"
        },
        "id": "x-pOu72YyLOV",
        "colab_type": "code",
        "colab": {}
      },
      "source": [
        "# 1. Declare input of size (100, )\n",
        "my_input= Input(shape=(100,))\n",
        "\n",
        "# 2. Define the generated image from the input\n",
        "# Hint : Use the generator model compiled above\n",
        "img_generate = my_generator(my_input)\n",
        "\n",
        "# 3. Define the output from the image\n",
        "# Hint : Use the discriminator model compiled above\n",
        "img_valid = my_disc(img_generate)\n",
        "\n",
        "\n",
        "# For the combined model, only train the generator\n",
        "my_disc.trainable = False\n",
        "\n",
        "# 4.Combined model\n",
        "# Create the model by defining the input and the output\n",
        "combined = Model(my_input, img_valid)\n",
        "\n",
        "# Once created, we compile the model\n",
        "combined.compile(optimizer='adam', loss='binary_crossentropy', metrics=['accuracy'])"
      ],
      "execution_count": 0,
      "outputs": []
    },
    {
      "cell_type": "markdown",
      "metadata": {
        "id": "6o-naNTUyLOZ",
        "colab_type": "text"
      },
      "source": [
        "**Q6**. Print the summary of the new model created. Comment on the shapes at each layer."
      ]
    },
    {
      "cell_type": "code",
      "metadata": {
        "ExecuteTime": {
          "end_time": "2019-12-03T09:26:20.574554Z",
          "start_time": "2019-12-03T09:26:20.569620Z"
        },
        "id": "55UPKarWyLOa",
        "colab_type": "code",
        "outputId": "848b9ca6-cb3f-41a4-cb5a-604f7235cae0",
        "colab": {
          "base_uri": "https://localhost:8080/",
          "height": 255
        }
      },
      "source": [
        "# TODO: Print model summary\n",
        "combined.summary()"
      ],
      "execution_count": 0,
      "outputs": [
        {
          "output_type": "stream",
          "text": [
            "Model: \"model_3\"\n",
            "_________________________________________________________________\n",
            "Layer (type)                 Output Shape              Param #   \n",
            "=================================================================\n",
            "input_3 (InputLayer)         (None, 100)               0         \n",
            "_________________________________________________________________\n",
            "model_1 (Model)              (None, 28, 28, 1)         1493520   \n",
            "_________________________________________________________________\n",
            "model_2 (Model)              (None, 1)                 533505    \n",
            "=================================================================\n",
            "Total params: 2,027,025\n",
            "Trainable params: 1,489,936\n",
            "Non-trainable params: 537,089\n",
            "_________________________________________________________________\n"
          ],
          "name": "stdout"
        }
      ]
    },
    {
      "cell_type": "markdown",
      "metadata": {
        "id": "KPNRj1YcyLOd",
        "colab_type": "text"
      },
      "source": [
        "We then define a function that is used to save generated images once in a while."
      ]
    },
    {
      "cell_type": "code",
      "metadata": {
        "ExecuteTime": {
          "end_time": "2019-05-30T12:24:41.361699Z",
          "start_time": "2019-05-30T12:24:41.349843Z"
        },
        "id": "oMM2M-U-yLOe",
        "colab_type": "code",
        "colab": {}
      },
      "source": [
        "def save_imgs(epoch):\n",
        "    \n",
        "    # Predict from input noise\n",
        "    r, c = 5, 5\n",
        "    noise = np.random.normal(0, 1, (r * c, 100))\n",
        "    gen_imgs = my_generator.predict(noise)\n",
        "\n",
        "    # Rescale images 0 - 1\n",
        "    gen_imgs = 0.5 * gen_imgs + 0.5\n",
        "    \n",
        "    # Subplots\n",
        "    fig, axs = plt.subplots(r, c)\n",
        "    cnt = 0\n",
        "    \n",
        "    for i in range(r):\n",
        "        for j in range(c):\n",
        "            axs[i,j].imshow(gen_imgs[cnt, :,:,0], cmap='gray')\n",
        "            axs[i,j].axis('off')\n",
        "            cnt += 1\n",
        " \n",
        "    fig.savefig(\"images_gan/mnist_%d.png\" % epoch)\n",
        "    plt.close()"
      ],
      "execution_count": 0,
      "outputs": []
    },
    {
      "cell_type": "markdown",
      "metadata": {
        "id": "wqdR-5o-yLOn",
        "colab_type": "text"
      },
      "source": [
        "## III. Train the model"
      ]
    },
    {
      "cell_type": "markdown",
      "metadata": {
        "id": "8nkAdVa7yLOo",
        "colab_type": "text"
      },
      "source": [
        "First of all, we set :\n",
        "- the number of epochs the model will train to 15'000\n",
        "- the batch size to 64\n",
        "- the interval at which we save the images to 1000"
      ]
    },
    {
      "cell_type": "code",
      "metadata": {
        "ExecuteTime": {
          "end_time": "2019-05-30T12:28:50.729562Z",
          "start_time": "2019-05-30T12:28:50.722302Z"
        },
        "id": "eHYLzVC6yLOp",
        "colab_type": "code",
        "colab": {}
      },
      "source": [
        "epochs = 15000\n",
        "batch_size = 64\n",
        "save_interval = 1000\n",
        "half_batch = int(batch_size / 2)"
      ],
      "execution_count": 0,
      "outputs": []
    },
    {
      "cell_type": "markdown",
      "metadata": {
        "id": "fMFNEQVtyLOt",
        "colab_type": "text"
      },
      "source": [
        "The following code is complete. Try to understand the different steps, debug potential errors from your previous code and compile it. "
      ]
    },
    {
      "cell_type": "code",
      "metadata": {
        "id": "UQA99kv5yLOt",
        "colab_type": "code",
        "colab": {}
      },
      "source": [
        "# If the directory to save the images does not exist create it \n",
        "!mkdir images_gan"
      ],
      "execution_count": 0,
      "outputs": []
    },
    {
      "cell_type": "code",
      "metadata": {
        "ExecuteTime": {
          "end_time": "2019-05-30T12:51:49.635827Z",
          "start_time": "2019-05-30T12:33:29.842168Z"
        },
        "code_folding": [],
        "id": "ab4Q_QSkyLO0",
        "colab_type": "code",
        "outputId": "24493444-ee42-4e92-d9ce-1a0e9c8702dc",
        "colab": {
          "base_uri": "https://localhost:8080/",
          "height": 71
        }
      },
      "source": [
        "d_loss_hist = []\n",
        "g_loss_hist = []\n",
        "d_acc = []\n",
        "\n",
        "for epoch in range(epochs):\n",
        "\n",
        "    # ---------------------\n",
        "    #  Train Discriminator\n",
        "    # ---------------------\n",
        "    \n",
        "    # Pick 50% of sample images\n",
        "    idx = np.random.randint(0, X_train.shape[0], half_batch)\n",
        "    imgs = X_train[idx]\n",
        "\n",
        "    # Generate 50% of new images\n",
        "    noise = np.random.normal(0, 1, (half_batch, 100))\n",
        "    gen_imgs = my_generator.predict(noise)\n",
        "    \n",
        "    \n",
        "    # Train discriminator on real images with label 1\n",
        "    d_loss_real = my_disc.train_on_batch(imgs, np.ones((half_batch, 1)))\n",
        "    \n",
        "    # Train discriminator on fake images with label 0\n",
        "    d_loss_fake = my_disc.train_on_batch(gen_imgs, np.zeros((half_batch, 1)))\n",
        "    \n",
        "    # Loss of discriminator = Mean of Real and Fake loss\n",
        "    d_loss = 0.5 * np.add(d_loss_real, d_loss_fake)\n",
        "    \n",
        "    d_loss_hist.append(d_loss[0])\n",
        "    d_acc.append(d_loss[1])\n",
        "    \n",
        "    # ---------------------\n",
        "    #  Train Generator\n",
        "    # ---------------------\n",
        "\n",
        "    # The generator wants the discriminator to label the generated samples as valid (ones)\n",
        "    noise = np.random.normal(0, 1, (batch_size, 100))\n",
        "    valid_y = np.array([1] * batch_size)\n",
        "\n",
        "    # Train the generator\n",
        "    g_loss = combined.train_on_batch(noise, valid_y)\n",
        "    g_loss_hist.append(g_loss)\n",
        "    \n",
        "    # Print the progress\n",
        "    #print (\"%d [D loss: %f, acc.: %.2f%%] [G loss: %f]\" % (epoch, d_loss[0], 100*d_loss[1], g_loss))\n",
        "        \n",
        "    if epoch % save_interval == 0:\n",
        "        save_imgs(epoch)"
      ],
      "execution_count": 0,
      "outputs": [
        {
          "output_type": "stream",
          "text": [
            "/usr/local/lib/python3.6/dist-packages/keras/engine/training.py:297: UserWarning: Discrepancy between trainable weights and collected trainable weights, did you set `model.trainable` without calling `model.compile` after ?\n",
            "  'Discrepancy between trainable weights and collected trainable'\n"
          ],
          "name": "stderr"
        }
      ]
    },
    {
      "cell_type": "markdown",
      "metadata": {
        "id": "dQu-oni0yLO3",
        "colab_type": "text"
      },
      "source": [
        "## IV. Create new samples"
      ]
    },
    {
      "cell_type": "markdown",
      "metadata": {
        "id": "VZRMroJzyLO4",
        "colab_type": "text"
      },
      "source": [
        "**Q7**. We now have all the elements required to generate new samples. What are according to you :\n",
        "- the steps to generate new samples ?\n",
        "- the part of the network we re-use ?"
      ]
    },
    {
      "cell_type": "markdown",
      "metadata": {
        "id": "PR8s-laiyLO4",
        "colab_type": "text"
      },
      "source": [
        "**Q8**. You are now asked to generate and visualize new samples from the steps you defined above. Pay attention when plotting generated images to :\n",
        "- rescale the images between 0 and 1 (as done previously)\n",
        "- reshape the generated image to 28*28"
      ]
    },
    {
      "cell_type": "code",
      "metadata": {
        "ExecuteTime": {
          "end_time": "2019-12-03T09:26:43.879292Z",
          "start_time": "2019-12-03T09:26:43.875424Z"
        },
        "id": "jFZKW6vWyLO5",
        "colab_type": "code",
        "outputId": "217da3ab-f7a7-4215-e914-a9c5c7a02dbf",
        "colab": {
          "base_uri": "https://localhost:8080/",
          "height": 231
        }
      },
      "source": [
        "# TODO: Visualize a generated image\n",
        "\n",
        "\n",
        "noise = np.random.normal(0, 1, (1, 100))\n",
        "gen_imgs = my_generator.predict(noise)\n",
        "gen_imgs = 0.5 * gen_imgs + 0.5\n",
        "plt.imshow(gen_imgs.reshape(28,28), cmap=\"gray\")\n",
        "plt.axis(\"off\")\n",
        "plt.show()"
      ],
      "execution_count": 1,
      "outputs": [
        {
          "output_type": "error",
          "ename": "NameError",
          "evalue": "ignored",
          "traceback": [
            "\u001b[0;31m---------------------------------------------------------------------------\u001b[0m",
            "\u001b[0;31mNameError\u001b[0m                                 Traceback (most recent call last)",
            "\u001b[0;32m<ipython-input-1-323679d99131>\u001b[0m in \u001b[0;36m<module>\u001b[0;34m()\u001b[0m\n\u001b[1;32m      2\u001b[0m \u001b[0;34m\u001b[0m\u001b[0m\n\u001b[1;32m      3\u001b[0m \u001b[0;34m\u001b[0m\u001b[0m\n\u001b[0;32m----> 4\u001b[0;31m \u001b[0mnoise\u001b[0m \u001b[0;34m=\u001b[0m \u001b[0mnp\u001b[0m\u001b[0;34m.\u001b[0m\u001b[0mrandom\u001b[0m\u001b[0;34m.\u001b[0m\u001b[0mnormal\u001b[0m\u001b[0;34m(\u001b[0m\u001b[0;36m0\u001b[0m\u001b[0;34m,\u001b[0m \u001b[0;36m1\u001b[0m\u001b[0;34m,\u001b[0m \u001b[0;34m(\u001b[0m\u001b[0;36m1\u001b[0m\u001b[0;34m,\u001b[0m \u001b[0;36m100\u001b[0m\u001b[0;34m)\u001b[0m\u001b[0;34m)\u001b[0m\u001b[0;34m\u001b[0m\u001b[0;34m\u001b[0m\u001b[0m\n\u001b[0m\u001b[1;32m      5\u001b[0m \u001b[0mgen_imgs\u001b[0m \u001b[0;34m=\u001b[0m \u001b[0mmy_generator\u001b[0m\u001b[0;34m.\u001b[0m\u001b[0mpredict\u001b[0m\u001b[0;34m(\u001b[0m\u001b[0mnoise\u001b[0m\u001b[0;34m)\u001b[0m\u001b[0;34m\u001b[0m\u001b[0;34m\u001b[0m\u001b[0m\n\u001b[1;32m      6\u001b[0m \u001b[0mgen_imgs\u001b[0m \u001b[0;34m=\u001b[0m \u001b[0;36m0.5\u001b[0m \u001b[0;34m*\u001b[0m \u001b[0mgen_imgs\u001b[0m \u001b[0;34m+\u001b[0m \u001b[0;36m0.5\u001b[0m\u001b[0;34m\u001b[0m\u001b[0;34m\u001b[0m\u001b[0m\n",
            "\u001b[0;31mNameError\u001b[0m: name 'np' is not defined"
          ]
        }
      ]
    },
    {
      "cell_type": "code",
      "metadata": {
        "id": "LI9iBtn5tCAr",
        "colab_type": "code",
        "colab": {}
      },
      "source": [
        ""
      ],
      "execution_count": 0,
      "outputs": []
    }
  ]
}